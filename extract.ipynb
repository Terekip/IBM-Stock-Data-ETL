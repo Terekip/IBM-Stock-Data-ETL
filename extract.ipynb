{
 "cells": [
  {
   "cell_type": "code",
   "execution_count": 9,
   "id": "64563476",
   "metadata": {},
   "outputs": [
    {
     "data": {
      "text/plain": [
       "True"
      ]
     },
     "execution_count": 9,
     "metadata": {},
     "output_type": "execute_result"
    }
   ],
   "source": [
    "import requests \n",
    "import os\n",
    "from dotenv import load_dotenv\n",
    "import pandas as pd\n",
    "from sqlalchemy import create_engine\n",
    "import psycopg2\n",
    "load_dotenv()"
   ]
  },
  {
   "cell_type": "code",
   "execution_count": 10,
   "id": "ddda927d",
   "metadata": {},
   "outputs": [],
   "source": [
    "api_key = os.getenv('API_KEY')\n",
    "url_daily = 'https://www.alphavantage.co/query?function=TIME_SERIES_DAILY&symbol=IBM&apikey=api_key&datatype=json'\n",
    "url_weekly = 'https://www.alphavantage.co/query?function=TIME_SERIES_WEEKLY&symbol=IBM&apikey=api_key&datatype=json'\n",
    "url_monthly = 'https://www.alphavantage.co/query?function=TIME_SERIES_MONTHLY&symbol=IBM&apikey=api_key&datatype=json'\n",
    "response_daily = requests.get(url_daily)\n",
    "response_weekly = requests.get(url_weekly)\n",
    "response_monthly = requests.get(url_monthly)\n",
    "data_daily = response_daily.json()\n",
    "data_weekly = response_weekly.json()\n",
    "data_monthly = response_monthly.json()\n"
   ]
  },
  {
   "cell_type": "code",
   "execution_count": 11,
   "id": "a62eee01",
   "metadata": {},
   "outputs": [],
   "source": [
    "#Extracing the time series data from the JSON\n",
    "ts_daily= data_daily['Time Series (Daily)']\n",
    "ts_weekly= data_weekly['Weekly Time Series']\n",
    "ts_monthly= data_monthly['Monthly Time Series']\n",
    "#converting to DataFrame with dates in the rows\n",
    "ts_daily_df = pd.DataFrame.from_dict(ts_daily, orient='index')\n",
    "ts_weekly_df = pd.DataFrame.from_dict(ts_weekly, orient='index')\n",
    "ts_monthly_df = pd.DataFrame.from_dict(ts_monthly, orient='index')\n",
    "\n",
    "#converting the index to datetime and cleaning up the columns\n",
    "ts_daily_df.index = pd.to_datetime(ts_daily_df.index)\n",
    "ts_daily_df.columns = [col.split('. ')[1]for col in ts_daily_df.columns]\n",
    "\n",
    "ts_weekly_df.index = pd.to_datetime(ts_weekly_df.index)\n",
    "ts_weekly_df.columns = [col.split('. ')[1]for col in ts_weekly_df.columns]\n",
    "\n",
    "ts_monthly_df.index = pd.to_datetime(ts_monthly_df.index)\n",
    "ts_monthly_df.columns = [col.split('. ')[1]for col in ts_monthly_df.columns]\n",
    "\n",
    "\n",
    "#changing all the values to numeric\n",
    "df_daily = ts_daily_df.apply(pd.to_numeric)\n",
    "df_monthly = ts_monthly_df.apply(pd.to_numeric)\n",
    "df_weekly = ts_weekly_df.apply(pd.to_numeric)\n",
    "\n",
    "#changing the index into a column\n",
    "df_daily = df_daily.reset_index()\n",
    "df_daily.rename(columns={'index': 'date'}, inplace=True)\n",
    "\n",
    "df_weekly = df_weekly.reset_index()\n",
    "df_weekly.rename(columns={'index': 'date'}, inplace=True)\n",
    "\n",
    "df_monthly = df_monthly.reset_index()\n",
    "df_monthly.rename(columns={'index': 'date'}, inplace=True)\n"
   ]
  },
  {
   "cell_type": "code",
   "execution_count": 12,
   "id": "ac68281c",
   "metadata": {},
   "outputs": [
    {
     "name": "stdout",
     "output_type": "stream",
     "text": [
      "Daily Data loaded successfully into the database.\n",
      "Weekly Data loaded successfully into the database.\n",
      "Monthly Data loaded successfully into the database.\n"
     ]
    }
   ],
   "source": [
    "#getting credentials of the database\n",
    "database = os.getenv('database')\n",
    "port = os.getenv('port')\n",
    "user = os.getenv('user')\n",
    "password = os.getenv('password')\n",
    "host = os.getenv('host')\n",
    "\n",
    "\n",
    "#creating an sqlalchemy engine\n",
    "engine = create_engine(f\"postgresql://{user}:{password}@{host}:{port}/{database}\")\n",
    "\n",
    "#loading the daily data into the database\n",
    "try:\n",
    "    df_daily.to_sql('Daily_prices', engine ,if_exists ='replace')\n",
    "    print('Daily Data loaded successfully into the database.')\n",
    "except Exception as e:\n",
    "    print('Failed to load daily  data into the database.')\n",
    "    print('Error:',e)\n",
    "\n",
    "#Loading Weekly data into the database\n",
    "try:\n",
    "    df_weekly.to_sql('Weekly_prices', engine ,if_exists ='replace')\n",
    "    print('Weekly Data loaded successfully into the database.')\n",
    "except Exception as e:\n",
    "    print('Failed to load weekly data into the database.')\n",
    "    print('Error:',e)\n",
    "\n",
    "#loading monthly data into the database\n",
    "try:\n",
    "    df_monthly.to_sql('Monthly_prices', engine ,if_exists ='replace')\n",
    "    print('Monthly Data loaded successfully into the database.')\n",
    "except Exception as e:\n",
    "    print('Failed to load monthly data into the database.')\n",
    "    print('Error:',e)\n",
    "\n"
   ]
  }
 ],
 "metadata": {
  "kernelspec": {
   "display_name": "Python 3",
   "language": "python",
   "name": "python3"
  },
  "language_info": {
   "codemirror_mode": {
    "name": "ipython",
    "version": 3
   },
   "file_extension": ".py",
   "mimetype": "text/x-python",
   "name": "python",
   "nbconvert_exporter": "python",
   "pygments_lexer": "ipython3",
   "version": "3.12.10"
  }
 },
 "nbformat": 4,
 "nbformat_minor": 5
}
