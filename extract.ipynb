{
 "cells": [
  {
   "cell_type": "code",
   "execution_count": 97,
   "id": "64563476",
   "metadata": {},
   "outputs": [
    {
     "data": {
      "text/plain": [
       "True"
      ]
     },
     "execution_count": 97,
     "metadata": {},
     "output_type": "execute_result"
    }
   ],
   "source": [
    "import requests \n",
    "import os\n",
    "from dotenv import load_dotenv\n",
    "import pandas as pd\n",
    "from sqlalchemy import create_engine\n",
    "import psycopg2\n",
    "load_dotenv()"
   ]
  },
  {
   "cell_type": "code",
   "execution_count": 111,
   "id": "ddda927d",
   "metadata": {},
   "outputs": [
    {
     "data": {
      "text/plain": [
       "{'Information': 'We have detected your API key as api_key and our standard API rate limit is 25 requests per day. Please subscribe to any of the premium plans at https://www.alphavantage.co/premium/ to instantly remove all daily rate limits.'}"
      ]
     },
     "execution_count": 111,
     "metadata": {},
     "output_type": "execute_result"
    }
   ],
   "source": [
    "api_key = os.getenv('API_KEY')\n",
    "url_daily = 'https://www.alphavantage.co/query?function=TIME_SERIES_DAILY&symbol=IBM&apikey=api_key&datatype=json'\n",
    "url_weekly = 'https://www.alphavantage.co/query?function=TIME_SERIES_WEEKLY&symbol=IBM&apikey=api_key&datatype=json'\n",
    "url_monthly = 'https://www.alphavantage.co/query?function=TIME_SERIES_MONTHLY&symbol=IBM&apikey=api_key&datatype=json'\n",
    "response_daily = requests.get(url_daily)\n",
    "response_weekly = requests.get(url_weekly)\n",
    "response_monthly = requests.get(url_monthly)\n",
    "data_daily = response_daily.json()\n",
    "data_weekly = response_weekly.json()\n",
    "data_monthly = response_monthly.json()\n",
    "data_weekly"
   ]
  },
  {
   "cell_type": "code",
   "execution_count": 112,
   "id": "a62eee01",
   "metadata": {},
   "outputs": [
    {
     "ename": "KeyError",
     "evalue": "'Time Series (Daily)'",
     "output_type": "error",
     "traceback": [
      "\u001b[31m---------------------------------------------------------------------------\u001b[39m",
      "\u001b[31mKeyError\u001b[39m                                  Traceback (most recent call last)",
      "\u001b[36mCell\u001b[39m\u001b[36m \u001b[39m\u001b[32mIn[112]\u001b[39m\u001b[32m, line 2\u001b[39m\n\u001b[32m      1\u001b[39m \u001b[38;5;66;03m#Extracing the time series data from the JSON\u001b[39;00m\n\u001b[32m----> \u001b[39m\u001b[32m2\u001b[39m ts_daily= \u001b[43mdata_daily\u001b[49m\u001b[43m[\u001b[49m\u001b[33;43m'\u001b[39;49m\u001b[33;43mTime Series (Daily)\u001b[39;49m\u001b[33;43m'\u001b[39;49m\u001b[43m]\u001b[49m\n\u001b[32m      3\u001b[39m ts_weekly= data_weekly[\u001b[33m'\u001b[39m\u001b[33mWeekly Time Series\u001b[39m\u001b[33m'\u001b[39m]\n\u001b[32m      4\u001b[39m ts_monthly= data_monthly[\u001b[33m'\u001b[39m\u001b[33mMonthly Series\u001b[39m\u001b[33m'\u001b[39m]\n",
      "\u001b[31mKeyError\u001b[39m: 'Time Series (Daily)'"
     ]
    }
   ],
   "source": [
    "#Extracing the time series data from the JSON\n",
    "ts_daily= data_daily['Time Series (Daily)']\n",
    "ts_weekly= data_weekly['Weekly Time Series']\n",
    "ts_monthly= data_monthly['Monthly Series']\n",
    "#converting to DataFrame with dates in the rows\n",
    "ts_daily_df = pd.DataFrame.from_dict(ts_daily, orient='index')\n",
    "ts_weekly_df = pd.DataFrame.from_dict(ts_weekly, orient='index')\n",
    "ts_monthly_df = pd.DataFrame.from_dict(ts_monthly, orient='index')\n",
    "\n",
    "#converting the index to datetime and cleaning up the columns\n",
    "ts_daily_df.index = pd.to_datetime(ts_daily_df.index)\n",
    "ts_daily_df.columns = [col.split('. ')[1]for col in ts_daily_df.columns]\n",
    "\n",
    "ts_weekly_df.index = pd.to_datetime(ts_weekly_df.index)\n",
    "ts_weekly_df.columns = [col.split('. ')[1]for col in ts_weekly_df.columns]\n",
    "\n",
    "ts_monthly_df.index = pd.to_datetime(ts_monthly_df.index)\n",
    "ts_monthly_df.columns = [col.split('. ')[1]for col in ts_monthly_df.columns]\n",
    "\n",
    "\n",
    "#changing all the values to numeric\n",
    "df_daily = ts_daily_df.apply(pd.to_numeric)\n",
    "df_monthly = ts_monthly_df.apply(pd.to_numeric)\n",
    "df_weekly = ts_weekly_df.apply(pd.to_numeric)\n",
    "\n",
    "#changing the index into a column\n",
    "df_daily = df.reset_index()\n",
    "df_daily.rename(columns={'index': 'date'}, inplace=True)\n",
    "\n",
    "df_weekly = df.reset_index()\n",
    "df_weekly.rename(columns={'index': 'date'}, inplace=True)\n",
    "\n",
    "df_monthly = df.reset_index()\n",
    "df_monthly.rename(columns={'index': 'date'}, inplace=True)\n"
   ]
  },
  {
   "cell_type": "code",
   "execution_count": null,
   "id": "ac68281c",
   "metadata": {},
   "outputs": [
    {
     "name": "stdout",
     "output_type": "stream",
     "text": [
      "Data loaded successfully into the database.\n"
     ]
    }
   ],
   "source": [
    "#getting credentials of the database\n",
    "database = os.getenv('database')\n",
    "port = os.getenv('port')\n",
    "user = os.getenv('user')\n",
    "password = os.getenv('password')\n",
    "host = os.getenv('host')\n",
    "\n",
    "\n",
    "#creating an sqlalchemy engine\n",
    "engine = create_engine(f\"postgresql://{user}:{password}@{host}:{port}/{database}\")\n",
    "\n",
    "#loading the daily data into the database\n",
    "try:\n",
    "    df_daily.to_sql('Daily_prices', engine ,if_exists ='replace')\n",
    "    print('Data loaded successfully into the database.')\n",
    "except Exception as e:\n",
    "    print('Failed to load daily data into the database.')\n",
    "    print('Error:',e)\n",
    "\n",
    "#Loading Weekly data into the database\n",
    "try:\n",
    "    df_weekly.to_sql('Weekly_prices', engine ,if_exists ='replace')\n",
    "    print('Weekly Data loaded successfully into the database.')\n",
    "except Exception as e:\n",
    "    print('Failed to load weekly data into the database.')\n",
    "    print('Error:',e)\n",
    "\n",
    "#loading monthly data into the database\n",
    "try:\n",
    "    df_monthly.to_sql('Monthly_prices', engine ,if_exists ='replace')\n",
    "    print('Monthly Data loaded successfully into the database.')\n",
    "except Exception as e:\n",
    "    print('Failed to load monthly data into the database.')\n",
    "    print('Error:',e)\n",
    "\n"
   ]
  }
 ],
 "metadata": {
  "kernelspec": {
   "display_name": "Python 3",
   "language": "python",
   "name": "python3"
  },
  "language_info": {
   "codemirror_mode": {
    "name": "ipython",
    "version": 3
   },
   "file_extension": ".py",
   "mimetype": "text/x-python",
   "name": "python",
   "nbconvert_exporter": "python",
   "pygments_lexer": "ipython3",
   "version": "3.12.10"
  }
 },
 "nbformat": 4,
 "nbformat_minor": 5
}
